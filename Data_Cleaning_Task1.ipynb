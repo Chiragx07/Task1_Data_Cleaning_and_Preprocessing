{
  "nbformat": 4,
  "nbformat_minor": 0,
  "metadata": {
    "colab": {
      "provenance": []
    },
    "kernelspec": {
      "name": "python3",
      "display_name": "Python 3"
    },
    "language_info": {
      "name": "python"
    }
  },
  "cells": [
    {
      "cell_type": "code",
      "source": [
        "# STEP 1: Import libraries\n",
        "import pandas as pd\n",
        "import numpy as np"
      ],
      "metadata": {
        "id": "Bh-G37KFSJHm"
      },
      "execution_count": null,
      "outputs": []
    },
    {
      "cell_type": "code",
      "source": [
        "# STEP 2: Upload dataset to Colab\n",
        "from google.colab import files\n",
        "uploaded = files.upload()"
      ],
      "metadata": {
        "colab": {
          "base_uri": "https://localhost:8080/",
          "height": 73
        },
        "id": "JyHhwMJJSLmk",
        "outputId": "e32f3694-0f37-4737-e531-f2705c7a217c"
      },
      "execution_count": null,
      "outputs": [
        {
          "output_type": "display_data",
          "data": {
            "text/plain": [
              "<IPython.core.display.HTML object>"
            ],
            "text/html": [
              "\n",
              "     <input type=\"file\" id=\"files-155a5e90-f121-42aa-b3c5-c3c38d88264b\" name=\"files[]\" multiple disabled\n",
              "        style=\"border:none\" />\n",
              "     <output id=\"result-155a5e90-f121-42aa-b3c5-c3c38d88264b\">\n",
              "      Upload widget is only available when the cell has been executed in the\n",
              "      current browser session. Please rerun this cell to enable.\n",
              "      </output>\n",
              "      <script>// Copyright 2017 Google LLC\n",
              "//\n",
              "// Licensed under the Apache License, Version 2.0 (the \"License\");\n",
              "// you may not use this file except in compliance with the License.\n",
              "// You may obtain a copy of the License at\n",
              "//\n",
              "//      http://www.apache.org/licenses/LICENSE-2.0\n",
              "//\n",
              "// Unless required by applicable law or agreed to in writing, software\n",
              "// distributed under the License is distributed on an \"AS IS\" BASIS,\n",
              "// WITHOUT WARRANTIES OR CONDITIONS OF ANY KIND, either express or implied.\n",
              "// See the License for the specific language governing permissions and\n",
              "// limitations under the License.\n",
              "\n",
              "/**\n",
              " * @fileoverview Helpers for google.colab Python module.\n",
              " */\n",
              "(function(scope) {\n",
              "function span(text, styleAttributes = {}) {\n",
              "  const element = document.createElement('span');\n",
              "  element.textContent = text;\n",
              "  for (const key of Object.keys(styleAttributes)) {\n",
              "    element.style[key] = styleAttributes[key];\n",
              "  }\n",
              "  return element;\n",
              "}\n",
              "\n",
              "// Max number of bytes which will be uploaded at a time.\n",
              "const MAX_PAYLOAD_SIZE = 100 * 1024;\n",
              "\n",
              "function _uploadFiles(inputId, outputId) {\n",
              "  const steps = uploadFilesStep(inputId, outputId);\n",
              "  const outputElement = document.getElementById(outputId);\n",
              "  // Cache steps on the outputElement to make it available for the next call\n",
              "  // to uploadFilesContinue from Python.\n",
              "  outputElement.steps = steps;\n",
              "\n",
              "  return _uploadFilesContinue(outputId);\n",
              "}\n",
              "\n",
              "// This is roughly an async generator (not supported in the browser yet),\n",
              "// where there are multiple asynchronous steps and the Python side is going\n",
              "// to poll for completion of each step.\n",
              "// This uses a Promise to block the python side on completion of each step,\n",
              "// then passes the result of the previous step as the input to the next step.\n",
              "function _uploadFilesContinue(outputId) {\n",
              "  const outputElement = document.getElementById(outputId);\n",
              "  const steps = outputElement.steps;\n",
              "\n",
              "  const next = steps.next(outputElement.lastPromiseValue);\n",
              "  return Promise.resolve(next.value.promise).then((value) => {\n",
              "    // Cache the last promise value to make it available to the next\n",
              "    // step of the generator.\n",
              "    outputElement.lastPromiseValue = value;\n",
              "    return next.value.response;\n",
              "  });\n",
              "}\n",
              "\n",
              "/**\n",
              " * Generator function which is called between each async step of the upload\n",
              " * process.\n",
              " * @param {string} inputId Element ID of the input file picker element.\n",
              " * @param {string} outputId Element ID of the output display.\n",
              " * @return {!Iterable<!Object>} Iterable of next steps.\n",
              " */\n",
              "function* uploadFilesStep(inputId, outputId) {\n",
              "  const inputElement = document.getElementById(inputId);\n",
              "  inputElement.disabled = false;\n",
              "\n",
              "  const outputElement = document.getElementById(outputId);\n",
              "  outputElement.innerHTML = '';\n",
              "\n",
              "  const pickedPromise = new Promise((resolve) => {\n",
              "    inputElement.addEventListener('change', (e) => {\n",
              "      resolve(e.target.files);\n",
              "    });\n",
              "  });\n",
              "\n",
              "  const cancel = document.createElement('button');\n",
              "  inputElement.parentElement.appendChild(cancel);\n",
              "  cancel.textContent = 'Cancel upload';\n",
              "  const cancelPromise = new Promise((resolve) => {\n",
              "    cancel.onclick = () => {\n",
              "      resolve(null);\n",
              "    };\n",
              "  });\n",
              "\n",
              "  // Wait for the user to pick the files.\n",
              "  const files = yield {\n",
              "    promise: Promise.race([pickedPromise, cancelPromise]),\n",
              "    response: {\n",
              "      action: 'starting',\n",
              "    }\n",
              "  };\n",
              "\n",
              "  cancel.remove();\n",
              "\n",
              "  // Disable the input element since further picks are not allowed.\n",
              "  inputElement.disabled = true;\n",
              "\n",
              "  if (!files) {\n",
              "    return {\n",
              "      response: {\n",
              "        action: 'complete',\n",
              "      }\n",
              "    };\n",
              "  }\n",
              "\n",
              "  for (const file of files) {\n",
              "    const li = document.createElement('li');\n",
              "    li.append(span(file.name, {fontWeight: 'bold'}));\n",
              "    li.append(span(\n",
              "        `(${file.type || 'n/a'}) - ${file.size} bytes, ` +\n",
              "        `last modified: ${\n",
              "            file.lastModifiedDate ? file.lastModifiedDate.toLocaleDateString() :\n",
              "                                    'n/a'} - `));\n",
              "    const percent = span('0% done');\n",
              "    li.appendChild(percent);\n",
              "\n",
              "    outputElement.appendChild(li);\n",
              "\n",
              "    const fileDataPromise = new Promise((resolve) => {\n",
              "      const reader = new FileReader();\n",
              "      reader.onload = (e) => {\n",
              "        resolve(e.target.result);\n",
              "      };\n",
              "      reader.readAsArrayBuffer(file);\n",
              "    });\n",
              "    // Wait for the data to be ready.\n",
              "    let fileData = yield {\n",
              "      promise: fileDataPromise,\n",
              "      response: {\n",
              "        action: 'continue',\n",
              "      }\n",
              "    };\n",
              "\n",
              "    // Use a chunked sending to avoid message size limits. See b/62115660.\n",
              "    let position = 0;\n",
              "    do {\n",
              "      const length = Math.min(fileData.byteLength - position, MAX_PAYLOAD_SIZE);\n",
              "      const chunk = new Uint8Array(fileData, position, length);\n",
              "      position += length;\n",
              "\n",
              "      const base64 = btoa(String.fromCharCode.apply(null, chunk));\n",
              "      yield {\n",
              "        response: {\n",
              "          action: 'append',\n",
              "          file: file.name,\n",
              "          data: base64,\n",
              "        },\n",
              "      };\n",
              "\n",
              "      let percentDone = fileData.byteLength === 0 ?\n",
              "          100 :\n",
              "          Math.round((position / fileData.byteLength) * 100);\n",
              "      percent.textContent = `${percentDone}% done`;\n",
              "\n",
              "    } while (position < fileData.byteLength);\n",
              "  }\n",
              "\n",
              "  // All done.\n",
              "  yield {\n",
              "    response: {\n",
              "      action: 'complete',\n",
              "    }\n",
              "  };\n",
              "}\n",
              "\n",
              "scope.google = scope.google || {};\n",
              "scope.google.colab = scope.google.colab || {};\n",
              "scope.google.colab._files = {\n",
              "  _uploadFiles,\n",
              "  _uploadFilesContinue,\n",
              "};\n",
              "})(self);\n",
              "</script> "
            ]
          },
          "metadata": {}
        },
        {
          "output_type": "stream",
          "name": "stdout",
          "text": [
            "Saving Medical.csv to Medical.csv\n"
          ]
        }
      ]
    },
    {
      "cell_type": "code",
      "source": [
        "# STEP 3: Load dataset\n",
        "df = pd.read_csv('Medical.csv')\n",
        "print(\"✅ Dataset loaded successfully!\")\n",
        "print(\"Shape:\", df.shape)"
      ],
      "metadata": {
        "colab": {
          "base_uri": "https://localhost:8080/"
        },
        "id": "4EOhkC6bSnX4",
        "outputId": "1a76139a-44d6-4a7c-dab5-b62960b7699f"
      },
      "execution_count": null,
      "outputs": [
        {
          "output_type": "stream",
          "name": "stdout",
          "text": [
            "✅ Dataset loaded successfully!\n",
            "Shape: (110527, 14)\n"
          ]
        }
      ]
    },
    {
      "cell_type": "code",
      "source": [
        "# STEP 4: Inspect dataset\n",
        "print(\"\\n--- Dataset Info ---\")\n",
        "df.info()\n",
        "print(\"\\n--- First 5 Rows ---\")\n",
        "print(df.head())"
      ],
      "metadata": {
        "colab": {
          "base_uri": "https://localhost:8080/"
        },
        "id": "b-dnWPTQTHtw",
        "outputId": "be42d69b-807d-4128-d7ba-ed48204c7d51"
      },
      "execution_count": null,
      "outputs": [
        {
          "output_type": "stream",
          "name": "stdout",
          "text": [
            "\n",
            "--- Dataset Info ---\n",
            "<class 'pandas.core.frame.DataFrame'>\n",
            "RangeIndex: 110527 entries, 0 to 110526\n",
            "Data columns (total 14 columns):\n",
            " #   Column          Non-Null Count   Dtype  \n",
            "---  ------          --------------   -----  \n",
            " 0   PatientId       110527 non-null  float64\n",
            " 1   AppointmentID   110527 non-null  int64  \n",
            " 2   Gender          110527 non-null  object \n",
            " 3   ScheduledDay    110527 non-null  object \n",
            " 4   AppointmentDay  110527 non-null  object \n",
            " 5   Age             110527 non-null  int64  \n",
            " 6   Neighbourhood   110527 non-null  object \n",
            " 7   Scholarship     110527 non-null  int64  \n",
            " 8   Hipertension    110527 non-null  int64  \n",
            " 9   Diabetes        110527 non-null  int64  \n",
            " 10  Alcoholism      110527 non-null  int64  \n",
            " 11  Handcap         110527 non-null  int64  \n",
            " 12  SMS_received    110527 non-null  int64  \n",
            " 13  No-show         110527 non-null  object \n",
            "dtypes: float64(1), int64(8), object(5)\n",
            "memory usage: 11.8+ MB\n",
            "\n",
            "--- First 5 Rows ---\n",
            "      PatientId  AppointmentID Gender          ScheduledDay  \\\n",
            "0  2.987250e+13        5642903      F  2016-04-29T18:38:08Z   \n",
            "1  5.589978e+14        5642503      M  2016-04-29T16:08:27Z   \n",
            "2  4.262962e+12        5642549      F  2016-04-29T16:19:04Z   \n",
            "3  8.679512e+11        5642828      F  2016-04-29T17:29:31Z   \n",
            "4  8.841186e+12        5642494      F  2016-04-29T16:07:23Z   \n",
            "\n",
            "         AppointmentDay  Age      Neighbourhood  Scholarship  Hipertension  \\\n",
            "0  2016-04-29T00:00:00Z   62    JARDIM DA PENHA            0             1   \n",
            "1  2016-04-29T00:00:00Z   56    JARDIM DA PENHA            0             0   \n",
            "2  2016-04-29T00:00:00Z   62      MATA DA PRAIA            0             0   \n",
            "3  2016-04-29T00:00:00Z    8  PONTAL DE CAMBURI            0             0   \n",
            "4  2016-04-29T00:00:00Z   56    JARDIM DA PENHA            0             1   \n",
            "\n",
            "   Diabetes  Alcoholism  Handcap  SMS_received No-show  \n",
            "0         0           0        0             0      No  \n",
            "1         0           0        0             0      No  \n",
            "2         0           0        0             0      No  \n",
            "3         0           0        0             0      No  \n",
            "4         1           0        0             0      No  \n"
          ]
        }
      ]
    },
    {
      "cell_type": "code",
      "source": [
        "# ✅ STEP 5: Identify and handle missing values (.isnull())\n",
        "# ------------------------------------------------------\n",
        "print(\"\\nMissing Values Per Column:\")\n",
        "print(df.isnull().sum())\n",
        "\n",
        "# Fill missing values\n",
        "num_cols = df.select_dtypes(include=['int64', 'float64']).columns\n",
        "df[num_cols] = df[num_cols].fillna(df[num_cols].median())  # numeric → median\n",
        "\n",
        "cat_cols = df.select_dtypes(include=['object']).columns\n",
        "for c in cat_cols:\n",
        "    df[c].fillna(df[c].mode()[0], inplace=True)            # categorical → mode\n",
        "\n",
        "print(\"\\n✅ Missing values handled.\")"
      ],
      "metadata": {
        "colab": {
          "base_uri": "https://localhost:8080/"
        },
        "id": "Dh0jx-2FTahn",
        "outputId": "c67db4be-36d7-4660-b432-dacabb095b2a"
      },
      "execution_count": null,
      "outputs": [
        {
          "output_type": "stream",
          "name": "stdout",
          "text": [
            "\n",
            "Missing Values Per Column:\n",
            "PatientId         0\n",
            "AppointmentID     0\n",
            "Gender            0\n",
            "ScheduledDay      0\n",
            "AppointmentDay    0\n",
            "Age               0\n",
            "Neighbourhood     0\n",
            "Scholarship       0\n",
            "Hipertension      0\n",
            "Diabetes          0\n",
            "Alcoholism        0\n",
            "Handcap           0\n",
            "SMS_received      0\n",
            "No-show           0\n",
            "dtype: int64\n"
          ]
        },
        {
          "output_type": "stream",
          "name": "stderr",
          "text": [
            "/tmp/ipython-input-1407204679.py:12: FutureWarning: A value is trying to be set on a copy of a DataFrame or Series through chained assignment using an inplace method.\n",
            "The behavior will change in pandas 3.0. This inplace method will never work because the intermediate object on which we are setting values always behaves as a copy.\n",
            "\n",
            "For example, when doing 'df[col].method(value, inplace=True)', try using 'df.method({col: value}, inplace=True)' or df[col] = df[col].method(value) instead, to perform the operation inplace on the original object.\n",
            "\n",
            "\n",
            "  df[c].fillna(df[c].mode()[0], inplace=True)            # categorical → mode\n"
          ]
        },
        {
          "output_type": "stream",
          "name": "stdout",
          "text": [
            "\n",
            "✅ Missing values handled.\n"
          ]
        }
      ]
    },
    {
      "cell_type": "code",
      "source": [
        "# ✅ STEP 6: Remove duplicate rows (.drop_duplicates())\n",
        "# ---------------------------------------------------\n",
        "before = df.shape[0]\n",
        "df = df.drop_duplicates()\n",
        "after = df.shape[0]\n",
        "print(f\"✅ Removed {before - after} duplicate rows.\")\n"
      ],
      "metadata": {
        "colab": {
          "base_uri": "https://localhost:8080/"
        },
        "id": "utS6s2hfTnTR",
        "outputId": "1a4de423-361a-4b19-e112-166ef83cdb0f"
      },
      "execution_count": null,
      "outputs": [
        {
          "output_type": "stream",
          "name": "stdout",
          "text": [
            "✅ Removed 0 duplicate rows.\n"
          ]
        }
      ]
    },
    {
      "cell_type": "code",
      "source": [
        "# STEP 7: Standardize text values (gender, country, etc.)\n",
        "# ---------------------------------------------------\n",
        "# Example: Gender column (modify column name if needed)\n",
        "for col in df.columns:\n",
        "    if 'gender' in col.lower():\n",
        "        df[col] = df[col].astype(str).str.lower().str.strip()\n",
        "        df[col] = df[col].replace({\n",
        "            'm': 'male', 'f': 'female', 'male.': 'male', 'female.': 'female'\n",
        "        })\n",
        "        print(f\"✅ Standardized text in '{col}' column.\")\n",
        "\n",
        "# Country or similar fields\n",
        "for col in df.columns:\n",
        "    if 'country' in col.lower() or 'city' in col.lower():\n",
        "        df[col] = df[col].astype(str).str.title().str.strip()\n",
        "        print(f\"✅ Standardized text in '{col}' column.\")"
      ],
      "metadata": {
        "colab": {
          "base_uri": "https://localhost:8080/"
        },
        "id": "HG6ZDwASTvld",
        "outputId": "d8f5b336-022f-4652-8b2f-c9900e931c9c"
      },
      "execution_count": null,
      "outputs": [
        {
          "output_type": "stream",
          "name": "stdout",
          "text": [
            "✅ Standardized text in 'Gender' column.\n"
          ]
        }
      ]
    },
    {
      "cell_type": "code",
      "source": [
        "# STEP 8: Convert date formats to consistent type\n",
        "# ---------------------------------------------------\n",
        "for col in df.columns:\n",
        "    if 'date' in col.lower():\n",
        "        df[col] = pd.to_datetime(df[col], errors='coerce', dayfirst=True)\n",
        "        df[col] = df[col].dt.strftime('%d-%m-%Y')  # dd-mm-yyyy format\n",
        "        print(f\"✅ Converted '{col}' to dd-mm-yyyy format.\")\n"
      ],
      "metadata": {
        "id": "F8YGudnNT_q0"
      },
      "execution_count": null,
      "outputs": []
    },
    {
      "cell_type": "code",
      "source": [
        "# STEP 9: Rename column headers to be clean and uniform\n",
        "# ---------------------------------------------------\n",
        "df.columns = [c.strip().lower().replace(' ', '_').replace('-', '_') for c in df.columns]\n",
        "print(\"\\n✅ Column headers renamed:\")\n",
        "print(df.columns.tolist())\n"
      ],
      "metadata": {
        "colab": {
          "base_uri": "https://localhost:8080/"
        },
        "id": "-0sPXA76UFZ1",
        "outputId": "9daaa0f9-48c7-4a4d-eb57-de3226548b6e"
      },
      "execution_count": null,
      "outputs": [
        {
          "output_type": "stream",
          "name": "stdout",
          "text": [
            "\n",
            "✅ Column headers renamed:\n",
            "['patientid', 'appointmentid', 'gender', 'scheduledday', 'appointmentday', 'age', 'neighbourhood', 'scholarship', 'hipertension', 'diabetes', 'alcoholism', 'handcap', 'sms_received', 'no_show']\n"
          ]
        }
      ]
    },
    {
      "cell_type": "code",
      "source": [
        "# STEP 10: Check and fix data types\n",
        "# ---------------------------------------------------\n",
        "if 'age' in df.columns:\n",
        "    df['age'] = pd.to_numeric(df['age'], errors='coerce').astype('Int64')\n",
        "print(\"\\n✅ Final datatypes:\")\n",
        "print(df.dtypes)"
      ],
      "metadata": {
        "colab": {
          "base_uri": "https://localhost:8080/"
        },
        "id": "-2U0TGzOUU-f",
        "outputId": "49597f8a-53b4-4ffa-c03b-06c5df06a948"
      },
      "execution_count": null,
      "outputs": [
        {
          "output_type": "stream",
          "name": "stdout",
          "text": [
            "\n",
            "✅ Final datatypes:\n",
            "patientid         float64\n",
            "appointmentid       int64\n",
            "gender             object\n",
            "scheduledday       object\n",
            "appointmentday     object\n",
            "age                 Int64\n",
            "neighbourhood      object\n",
            "scholarship         int64\n",
            "hipertension        int64\n",
            "diabetes            int64\n",
            "alcoholism          int64\n",
            "handcap             int64\n",
            "sms_received        int64\n",
            "no_show            object\n",
            "dtype: object\n"
          ]
        }
      ]
    },
    {
      "cell_type": "code",
      "source": [
        "# STEP 11: Save cleaned dataset\n",
        "# ---------------------------------------------------\n",
        "df.to_csv('Medical_Cleaned.csv', index=False)\n",
        "print(\"\\n💾 Cleaned dataset saved as 'Medical_Cleaned.csv'\")"
      ],
      "metadata": {
        "colab": {
          "base_uri": "https://localhost:8080/"
        },
        "id": "48B09ocZUh5J",
        "outputId": "c3c1ed63-d404-4267-f447-9159323ce2af"
      },
      "execution_count": null,
      "outputs": [
        {
          "output_type": "stream",
          "name": "stdout",
          "text": [
            "\n",
            "💾 Cleaned dataset saved as 'Medical_Cleaned.csv'\n"
          ]
        }
      ]
    },
    {
      "cell_type": "code",
      "source": [
        "# ✅ STEP 12: Download cleaned file\n",
        "# ---------------------------------------------------\n",
        "from google.colab import files\n",
        "files.download('Medical_Cleaned.csv')"
      ],
      "metadata": {
        "colab": {
          "base_uri": "https://localhost:8080/",
          "height": 17
        },
        "id": "W5IW75YyUtgU",
        "outputId": "aab5c9c4-bada-4900-b803-fbe24efcaeb1"
      },
      "execution_count": null,
      "outputs": [
        {
          "output_type": "display_data",
          "data": {
            "text/plain": [
              "<IPython.core.display.Javascript object>"
            ],
            "application/javascript": [
              "\n",
              "    async function download(id, filename, size) {\n",
              "      if (!google.colab.kernel.accessAllowed) {\n",
              "        return;\n",
              "      }\n",
              "      const div = document.createElement('div');\n",
              "      const label = document.createElement('label');\n",
              "      label.textContent = `Downloading \"${filename}\": `;\n",
              "      div.appendChild(label);\n",
              "      const progress = document.createElement('progress');\n",
              "      progress.max = size;\n",
              "      div.appendChild(progress);\n",
              "      document.body.appendChild(div);\n",
              "\n",
              "      const buffers = [];\n",
              "      let downloaded = 0;\n",
              "\n",
              "      const channel = await google.colab.kernel.comms.open(id);\n",
              "      // Send a message to notify the kernel that we're ready.\n",
              "      channel.send({})\n",
              "\n",
              "      for await (const message of channel.messages) {\n",
              "        // Send a message to notify the kernel that we're ready.\n",
              "        channel.send({})\n",
              "        if (message.buffers) {\n",
              "          for (const buffer of message.buffers) {\n",
              "            buffers.push(buffer);\n",
              "            downloaded += buffer.byteLength;\n",
              "            progress.value = downloaded;\n",
              "          }\n",
              "        }\n",
              "      }\n",
              "      const blob = new Blob(buffers, {type: 'application/binary'});\n",
              "      const a = document.createElement('a');\n",
              "      a.href = window.URL.createObjectURL(blob);\n",
              "      a.download = filename;\n",
              "      div.appendChild(a);\n",
              "      a.click();\n",
              "      div.remove();\n",
              "    }\n",
              "  "
            ]
          },
          "metadata": {}
        },
        {
          "output_type": "display_data",
          "data": {
            "text/plain": [
              "<IPython.core.display.Javascript object>"
            ],
            "application/javascript": [
              "download(\"download_6648a7ca-7d9b-4d21-98bd-d4599334c3f5\", \"Medical_Cleaned.csv\", 11438979)"
            ]
          },
          "metadata": {}
        }
      ]
    }
  ]
}